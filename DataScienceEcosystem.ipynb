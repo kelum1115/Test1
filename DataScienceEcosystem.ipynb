{
 "cells": [
  {
   "cell_type": "markdown",
   "id": "8d7fb2eb-1709-438f-8afc-909e081d22de",
   "metadata": {},
   "source": [
    "# Data Science Tools and Ecoystem"
   ]
  },
  {
   "cell_type": "markdown",
   "id": "cad7e337-6735-4a32-bb30-5433208a8111",
   "metadata": {},
   "source": [
    "In this notebook, data Science Tools and Ecosystem are summarized."
   ]
  },
  {
   "cell_type": "markdown",
   "id": "f74d6f3b-2ab5-455d-bbba-5548fc59b11e",
   "metadata": {},
   "source": [
    "**Objectives:**\n",
    "* List the popular languages that Data Scientists use\n",
    "* List the commonly used libraries used by Data Scientists\n",
    "* Create a table of development environment open source tools used in data science\n",
    "* Create arithmetic expression\n",
    "* Convert minutes to hours"
   ]
  },
  {
   "cell_type": "markdown",
   "id": "5a0dc2c9-354a-4965-a947-cf5adea442ed",
   "metadata": {},
   "source": [
    "Some of the popular languages that Data Scientists use are:\n",
    "1. Python\n",
    "2. R\n",
    "3. SQl\n",
    "4. Java"
   ]
  },
  {
   "cell_type": "markdown",
   "id": "4457d173-068e-44ed-bb82-8af83c4684e1",
   "metadata": {},
   "source": [
    "Some of the commonly used libraries used by Data Scientists consist:\n",
    "1. Pandas\n",
    "2. NumbPy\n",
    "3. Matplotlib\n",
    "4. TensorFlow\n",
    "5. Pytorch\n",
    "6. Scikitar"
   ]
  },
  {
   "cell_type": "markdown",
   "id": "a72c5d0e-9748-4f20-b6ea-0319a6fd6737",
   "metadata": {},
   "source": [
    "| Data Science Tools |\n",
    "| ------------------ |\n",
    "| RStudio            |\n",
    "| Jupyter Notebook   |\n",
    "| Anaconda navigator |"
   ]
  },
  {
   "cell_type": "markdown",
   "id": "045b6863-c2e1-4e4c-adfe-70bf7919a902",
   "metadata": {},
   "source": [
    "### Below are a few examples of evaluating arithmetic expressions in Python"
   ]
  },
  {
   "cell_type": "code",
   "execution_count": 26,
   "id": "74ba34f9-e000-48f2-b9aa-c1f701dd4557",
   "metadata": {},
   "outputs": [
    {
     "data": {
      "text/plain": [
       "65"
      ]
     },
     "execution_count": 26,
     "metadata": {},
     "output_type": "execute_result"
    }
   ],
   "source": [
    "# This is a arithmetic expression to multiply then add integers \n",
    "(5 * 9) + 20"
   ]
  },
  {
   "cell_type": "code",
   "execution_count": 42,
   "id": "0413c606-016e-4d63-a24a-09b27977907a",
   "metadata": {},
   "outputs": [
    {
     "name": "stdout",
     "output_type": "stream",
     "text": [
      "540 minutes is 9.0 hours\n"
     ]
    }
   ],
   "source": [
    "# This will convert 540 minutes to hours by dividing by 60\n",
    "minutes = 540\n",
    "hour = 60\n",
    "hours = minutes/hour\n",
    "print(\"540 minutes is\" ,hours, \"hours\")"
   ]
  },
  {
   "cell_type": "markdown",
   "id": "27015740-071e-48bd-ac7f-8a825f5ff799",
   "metadata": {},
   "source": [
    "## Author\n",
    "Williams Okoye"
   ]
  },
  {
   "cell_type": "code",
   "execution_count": null,
   "id": "177696df-58de-43fb-be27-f219e19a91a8",
   "metadata": {},
   "outputs": [],
   "source": []
  }
 ],
 "metadata": {
  "kernelspec": {
   "display_name": "Python [conda env:base] *",
   "language": "python",
   "name": "conda-base-py"
  },
  "language_info": {
   "codemirror_mode": {
    "name": "ipython",
    "version": 3
   },
   "file_extension": ".py",
   "mimetype": "text/x-python",
   "name": "python",
   "nbconvert_exporter": "python",
   "pygments_lexer": "ipython3",
   "version": "3.12.7"
  }
 },
 "nbformat": 4,
 "nbformat_minor": 5
}
